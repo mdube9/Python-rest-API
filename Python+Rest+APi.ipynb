{
 "cells": [
  {
   "cell_type": "code",
   "execution_count": 22,
   "metadata": {},
   "outputs": [],
   "source": [
    "from flask import Flask, request\n",
    "from flask_restful import Resource, Api\n",
    "from sqlalchemy import create_engine\n",
    "from json import dumps\n",
    "from flask_jsonpify import jsonify\n"
   ]
  },
  {
   "cell_type": "code",
   "execution_count": 23,
   "metadata": {
    "collapsed": true
   },
   "outputs": [],
   "source": [
    "db_connect = create_engine('sqlite:///madhav.db')\n",
    "app = Flask(\"python_rest_api\")\n",
    "api = Api(app)"
   ]
  },
  {
   "cell_type": "code",
   "execution_count": null,
   "metadata": {},
   "outputs": [
    {
     "name": "stderr",
     "output_type": "stream",
     "text": [
      " * Running on http://127.0.0.1:5002/ (Press CTRL+C to quit)\n",
      "127.0.0.1 - - [04/Jan/2018 09:47:41] \"GET /comments HTTP/1.1\" 200 -\n"
     ]
    }
   ],
   "source": [
    "class Comments(Resource):\n",
    "    def get(self):\n",
    "        conn = db_connect.connect() # to connect to database\n",
    "        query = conn.execute(\"select * from comments\") # Executing query which returns Json string\n",
    "        \n",
    "        return {'Commenter Name': [i[1] for i in query.cursor.fetchall()]} \n",
    "    \n",
    "    def post(self):\n",
    "        conn = db_connect.connect()\n",
    "        print(request.json)\n",
    "        cid=request.json['contact_id']\n",
    "        LastName = request.json['last_name']\n",
    "        FirstName = request.json['first_name']\n",
    "        Phone = request.json['phone']\n",
    "        Email = request.json['email']\n",
    "        query = conn.execute(\"insert into comments values('{0}','{1}','{2}','{3}','{4})\".format(cid,FirstName,LastName,                    City, State, Country, PostalCode, Phone, Fax,\n",
    "                             Email,Phone))\n",
    "        return {'status':'success'}\n",
    "\n",
    "api.add_resource(Employees, '/comments') # Route_1\n",
    "\n",
    "if __name__ == '__main__':\n",
    "     app.run(port='5002')"
   ]
  },
  {
   "cell_type": "code",
   "execution_count": null,
   "metadata": {
    "collapsed": true
   },
   "outputs": [],
   "source": []
  },
  {
   "cell_type": "code",
   "execution_count": null,
   "metadata": {
    "collapsed": true
   },
   "outputs": [],
   "source": []
  }
 ],
 "metadata": {
  "kernelspec": {
   "display_name": "Python 3",
   "language": "python",
   "name": "python3"
  },
  "language_info": {
   "codemirror_mode": {
    "name": "ipython",
    "version": 3
   },
   "file_extension": ".py",
   "mimetype": "text/x-python",
   "name": "python",
   "nbconvert_exporter": "python",
   "pygments_lexer": "ipython3",
   "version": "3.6.1"
  }
 },
 "nbformat": 4,
 "nbformat_minor": 2
}
